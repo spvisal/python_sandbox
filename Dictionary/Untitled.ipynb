{
 "cells": [
  {
   "cell_type": "code",
   "execution_count": 8,
   "metadata": {},
   "outputs": [
    {
     "name": "stdout",
     "output_type": "stream",
     "text": [
      "4\n",
      "0\n"
     ]
    }
   ],
   "source": [
    "import random\n",
    "\n",
    "beer_list = ['beer1', 'beer2', 'beer3', 'beer4']\n",
    "\n",
    "value = random.randint(0, len(beer_list))\n",
    "print(len(beer_list))\n",
    "print(value)"
   ]
  },
  {
   "cell_type": "code",
   "execution_count": 11,
   "metadata": {},
   "outputs": [
    {
     "name": "stdout",
     "output_type": "stream",
     "text": [
      "\n",
      "Eric's favorite numbers are:\n",
      "eric\n",
      "ever\n",
      "willie\n",
      "\n",
      "Ever's favorite numbers are:\n",
      "eric\n",
      "ever\n",
      "willie\n",
      "\n",
      "Willie's favorite numbers are:\n",
      "eric\n",
      "ever\n",
      "willie\n"
     ]
    }
   ],
   "source": [
    "favorite_numbers = {'eric': [3, 11, 19, 23, 42],\n",
    "                    'ever': [2, 4, 5],\n",
    "                    'willie': [5, 35, 120],\n",
    "                    }\n",
    "\n",
    "# Display each person's favorite numbers.\n",
    "for name in favorite_numbers:\n",
    "    print(\"\\n%s's favorite numbers are:\" % name.title())\n",
    "    # Each value is itself a list, so we need another for loop\n",
    "    #  to work with the list.\n",
    "    for favorite_number in favorite_numbers:\n",
    "        print(favorite_number) "
   ]
  },
  {
   "cell_type": "code",
   "execution_count": 17,
   "metadata": {},
   "outputs": [
    {
     "name": "stdout",
     "output_type": "stream",
     "text": [
      "You should try ('Lost Dog (w/Lost Abbey)',), %\n",
      "You should try Rum-Aged Imperial Porter - Lost Abbey Collab., %\n",
      "You should try 10, %\n"
     ]
    }
   ],
   "source": [
    "beer = {'name': ('Lost Dog (w/Lost Abbey)',), 'tagline': 'Rum-Aged Imperial Porter - Lost Abbey Collab.', 'abv': 10}\n",
    "\n",
    "for key,value in beer.items():\n",
    "    print(f'You should try {value}, %')"
   ]
  },
  {
   "cell_type": "code",
   "execution_count": null,
   "metadata": {},
   "outputs": [],
   "source": []
  }
 ],
 "metadata": {
  "kernelspec": {
   "display_name": "Python 3",
   "language": "python",
   "name": "python3"
  },
  "language_info": {
   "codemirror_mode": {
    "name": "ipython",
    "version": 3
   },
   "file_extension": ".py",
   "mimetype": "text/x-python",
   "name": "python",
   "nbconvert_exporter": "python",
   "pygments_lexer": "ipython3",
   "version": "3.8.5"
  }
 },
 "nbformat": 4,
 "nbformat_minor": 4
}
