{
 "cells": [
  {
   "cell_type": "code",
   "execution_count": 1,
   "metadata": {},
   "outputs": [
    {
     "name": "stdout",
     "output_type": "stream",
     "text": [
      "Your are still playing, because your power is 5. \n",
      "Your are still playing, because your power is 4. \n",
      "Your are still playing, because your power is 3. \n",
      "Your are still playing, because your power is 2. \n",
      "Your are still playing, because your power is 1. \n",
      "\n",
      "Oh no, your power dropped to 0! Game Over...\n"
     ]
    }
   ],
   "source": [
    "power = 5\n",
    "\n",
    "while power > 0:\n",
    "    print(\"Your are still playing, because your power is %d. \" % power)\n",
    "\n",
    "    power = power - 1\n",
    "\n",
    "print(\"\\nOh no, your power dropped to 0! Game Over...\")"
   ]
  },
  {
   "cell_type": "markdown",
   "metadata": {},
   "source": [
    "#Ex - Player strength"
   ]
  },
  {
   "cell_type": "code",
   "execution_count": 2,
   "metadata": {},
   "outputs": [
    {
     "name": "stdout",
     "output_type": "stream",
     "text": [
      "The player's intial strength is 5. \n",
      "You are still playing, because your power is 5 \n",
      "Your increased power is 6 \n",
      "You are still playing, because your power is 6 \n",
      "Your increased power is 7 \n",
      "You are still playing, because your power is 7 \n",
      "Your increased power is 8 \n",
      "You are still playing, because your power is 8 \n",
      "Your increased power is 9 \n",
      "You are still playing, because your power is 9 \n",
      "Your increased power is 10 \n",
      "\n",
      "Oh no, you have grown to strong, and you have been moved to next level of the game\n"
     ]
    }
   ],
   "source": [
    "# The player's power starts out at 5\n",
    "power = 5\n",
    "\n",
    "# Player's initial strength\n",
    "print(\"The player's intial strength is %d. \" % power)\n",
    "\n",
    "# The player is allowed to keep playing as long as their power is over 10\n",
    "while power < 10:\n",
    "    print(\"You are still playing, because your power is %d \" %power)\n",
    "\n",
    "    power = power + 1\n",
    "\n",
    "    print(\"Your increased power is %d \" %power)\n",
    "\n",
    "print(\"\\nOh no, you have grown to strong, and you have been moved to next level of the game\")"
   ]
  },
  {
   "cell_type": "markdown",
   "metadata": {},
   "source": [
    "#Ex- Game Preference"
   ]
  },
  {
   "cell_type": "code",
   "execution_count": 3,
   "metadata": {},
   "outputs": [
    {
     "name": "stdin",
     "output_type": "stream",
     "text": [
      "Please tell game of your choice  hockey\n"
     ]
    },
    {
     "name": "stdout",
     "output_type": "stream",
     "text": [
      "['football', 'cricket', 'tenis', 'hockey']\n"
     ]
    }
   ],
   "source": [
    "# Start with a list containing several games.\n",
    "games = [\"football\", \"cricket\", \"tenis\"]\n",
    "\n",
    "# Ask the user for a game.\n",
    "user_input = input(\"Please tell game of your choice \")\n",
    "\n",
    "# Add the new game to the list\n",
    "games.append(user_input)\n",
    "\n",
    "# Show that game has been added to the list\n",
    "print(games)"
   ]
  },
  {
   "cell_type": "code",
   "execution_count": null,
   "metadata": {},
   "outputs": [],
   "source": [
    "# Start with an empty list. You can 'seed' the list with\n",
    "# some predefine values if you like.\n",
    "\n",
    "games = [\"football\", \"cricket\", \"tenis\"]\n",
    "\n",
    "# Set the new_game to something other than quit\n",
    "new_game = ''\n",
    "\n",
    "# Start a loop that will run until user enters 'quit'\n",
    "while new_game != 'quit':\n",
    "    # Ask the user for new game\n",
    "    new_game = input(\"Please enter the game of your choice \")\n",
    "\n",
    "    # Add the new game to our list only of it is not quit\n",
    "    if new_game != 'quit':\n",
    "\n",
    "        # Check if the game is already their in the list or not and then only add to list.\n",
    "        is_available = new_game in games\n",
    "        if is_available == False:\n",
    "            games.append(new_game)\n",
    "        else:\n",
    "            print(\"You are trying to add \" + new_game + \" is already available..Please add another game..\")\n",
    "\n",
    "# Show that new game has been added.\n",
    "print(games)"
   ]
  },
  {
   "cell_type": "markdown",
   "metadata": {},
   "source": [
    "#Learn how to make menus in paython using WHILE loops"
   ]
  },
  {
   "cell_type": "code",
   "execution_count": 5,
   "metadata": {
    "collapsed": true,
    "jupyter": {
     "outputs_hidden": true
    }
   },
   "outputs": [
    {
     "name": "stdout",
     "output_type": "stream",
     "text": [
      "\n",
      "Welcome to the nature center. What would you like to do?\n",
      "\n",
      "[1] Enter 1 to take a bicycle ride.\n",
      "[2] Enter 2 to go for a run.\n",
      "[3] Enter 3 to climb a mountain.\n",
      "[q] Enter q to quit.\n"
     ]
    },
    {
     "name": "stdin",
     "output_type": "stream",
     "text": [
      "\n",
      "What would you like to do? 1\n"
     ]
    },
    {
     "name": "stdout",
     "output_type": "stream",
     "text": [
      "\n",
      "Here's a bicycle. Have fun!\n",
      "\n",
      "\n",
      "[1] Enter 1 to take a bicycle ride.\n",
      "[2] Enter 2 to go for a run.\n",
      "[3] Enter 3 to climb a mountain.\n",
      "[q] Enter q to quit.\n"
     ]
    },
    {
     "name": "stdin",
     "output_type": "stream",
     "text": [
      "\n",
      "What would you like to do? q\n"
     ]
    },
    {
     "name": "stdout",
     "output_type": "stream",
     "text": [
      "\n",
      "Thanks for playing. See you later.\n",
      "\n",
      "Thanks again, bye now\n"
     ]
    }
   ],
   "source": [
    "# Give the user some context\n",
    "print(\"\\nWelcome to the nature center. What would you like to do?\")\n",
    "\n",
    "# Set an initial value for choice other than value for quit.\n",
    "choice = ''\n",
    "\n",
    "# start a loop that runs until the user enters the value for quit.\n",
    "while choice != 'q':\n",
    "    # Give all the choices in a series of print statements.\n",
    "    print(\"\\n[1] Enter 1 to take a bicycle ride.\")\n",
    "    print(\"[2] Enter 2 to go for a run.\")\n",
    "    print(\"[3] Enter 3 to climb a mountain.\")\n",
    "    print(\"[q] Enter q to quit.\")\n",
    "\n",
    "    # Ask for the user's choice\n",
    "    choice = input(\"\\nWhat would you like to do?\")\n",
    "\n",
    "    # Respond to the user's choice.\n",
    "    if choice == '1':\n",
    "        print(\"\\nHere's a bicycle. Have fun!\\n\")\n",
    "    elif choice == '2':\n",
    "        print(\"\\nHere are some running shoes. Run fast!\\n\")\n",
    "    elif choice == '3':\n",
    "        print(\"\\nHere's a map. Can you leave a trip plan for us?\\n\")\n",
    "    elif choice == 'q':\n",
    "        print(\"\\nThanks for playing. See you later.\\n\")\n",
    "    else:\n",
    "        print(\"\\nI don't understand that choice, please try again.\\n\")\n",
    "\n",
    "# Print the message that we are all finished.\n",
    "print(\"Thanks again, bye now\")"
   ]
  },
  {
   "cell_type": "code",
   "execution_count": null,
   "metadata": {},
   "outputs": [],
   "source": [
    "# function to add data to the list\n",
    "def add_data(game_list):\n",
    "    user_input = input(\"\\nPlease enter which game would like to add?\")\n",
    "    is_available = user_input in game_list\n",
    "    if is_available == False:\n",
    "        print(\"adding your choice of game..\")\n",
    "        game_list.append(user_input)\n",
    "    else:\n",
    "        print(\"game already available\")\n",
    "        \n",
    "# Give the user some context\n",
    "print(\"\\nWelcome to the game center. What would be your prefer choice of game?\")\n",
    "\n",
    "# Set an initial value for choice other than value for quit.\n",
    "choice = ''\n",
    "\n",
    "# Set of available games\n",
    "games = [\"cricket\", \"football\", \"basketball\"]\n",
    "\n",
    "# start a loop that runs until the user enters the value for quit.\n",
    "while choice != 'q':\n",
    "    #Give all the choices in a series of print statements\n",
    "    print(\"\\n[1] Enter 1 to take a add data.\")\n",
    "    print(\"[2] Enter 2 to remove data.\")\n",
    "    print(\"[q] Enter q to quit.\")\n",
    "    \n",
    "    #Ask for the user's choice\n",
    "    choice = input(\"\\nWhat would you like to do\")\n",
    "    \n",
    "    #Respond to the user's choice.\n",
    "    if choice == '1':\n",
    "        add_data(games)\n",
    "    elif choice == 'q':\n",
    "        print(\"\\nThanks for playing. See you later.\\n\")\n",
    "    else:\n",
    "        print(\"\\nI don't understand that choice, please try again.\\n\")\n",
    "        \n",
    "# Print the message that we are all finished.\n",
    "print(\"Thanks again, bye now\")"
   ]
  }
 ],
 "metadata": {
  "kernelspec": {
   "display_name": "Python 3",
   "language": "python",
   "name": "python3"
  },
  "language_info": {
   "codemirror_mode": {
    "name": "ipython",
    "version": 3
   },
   "file_extension": ".py",
   "mimetype": "text/x-python",
   "name": "python",
   "nbconvert_exporter": "python",
   "pygments_lexer": "ipython3",
   "version": "3.8.5"
  }
 },
 "nbformat": 4,
 "nbformat_minor": 4
}
